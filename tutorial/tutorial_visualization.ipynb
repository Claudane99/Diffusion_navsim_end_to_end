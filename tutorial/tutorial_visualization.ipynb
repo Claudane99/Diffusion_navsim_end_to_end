{
  "cells": [
    {
      "cell_type": "markdown",
      "metadata": {},
      "source": [
        "<img src=\"https://raw.githubusercontent.com/autonomousvision/navsim/main/assets/navsim_transparent.png\" alt=\"drawing\" width=\"800\"/>"
      ]
    },
    {
      "cell_type": "markdown",
      "metadata": {},
      "source": [
        "# NAVSIM Visualization Tutorial\n",
        "\n",
        "This notebook will introduce some basic plots to visualize the driving scenes in NAVSIM. All plots are created with `matplotlib` and are easy to customize for your application.\n",
        "\n",
        "## Table of Contents\n",
        "1. [Config](#config)\n",
        "2. [Birds-Eye-View](#bev)\n",
        "3. [Cameras](#camera)\n",
        "4. [Creating custom plots](#custom)\n",
        "5. [Creating GIFs](#gifs)"
      ]
    },
    {
      "cell_type": "markdown",
      "metadata": {},
      "source": [
        "## Config <a name=\"config\"></a>\n",
        "\n",
        "NAVSIM offers two types of plots: \n",
        "- Birds-Eye-View (BEV) plots or \n",
        "- Camera plots. \n",
        "\n",
        "The LiDAR sensor can be visualized either in BEV or in camera images. All plots have a global configuration in [`navsim/visualization/config.py`](https://github.com/autonomousvision/navsim/blob/main/navsim/navsim/visualization/config.py). In this Python file, you can configure all colors or dimensions. The LiDAR point cloud can be colored in any colormap, showing the distance to the ego vehicle or the height of each point. In this tutorial, we first instantiate a `SceneFilter` and `SceneLoader` from the mini split."
      ]
    },
    {
      "cell_type": "code",
      "execution_count": null,
      "metadata": {},
      "outputs": [
        {
          "name": "stderr",
          "output_type": "stream",
          "text": [
            "Loading logs: 100%|██████████| 64/64 [00:03<00:00, 20.46it/s]\n"
          ]
        }
      ],
      "source": [
        "import os\n",
        "from pathlib import Path\n",
        "import sys\n",
        "\n",
        "sys.path.append('/home/claudane/Desktop/navsim/')\n",
        "\n",
        "import hydra\n",
        "from hydra.utils import instantiate\n",
        "import numpy as np\n",
        "import matplotlib.pyplot as plt\n",
        "\n",
        "from navsim.common.dataloader import SceneLoader\n",
        "from navsim.common.dataclasses import SceneFilter, SensorConfig\n",
        "\n",
        "os.environ[\"NUPLAN_MAPS_ROOT\"] =\"/home/claudane/Desktop/navsim/dataset/maps\"\n",
        "os.environ[\"NAVSIM_EXP_ROOT\"] =\"/home/claudane/Desktop/navsim/exp\"\n",
        "os.environ[\"NAVSIM_DEVKIT_ROOT\"] =\"/home/claudane/Desktop/navsim/navsim\"\n",
        "os.environ[\"OPENSCENE_DATA_ROOT\"] =\"/home/claudane/Desktop/navsim/dataset\"\n",
        "\n",
        "SPLIT = \"mini\"  # [\"mini\", \"test\", \"trainval\"]\n",
        "FILTER = \"all_scenes\"\n",
        "\n",
        "# hydra.initialize(config_path=\"./navsim/planning/script/config/common/train_test_split/scene_filter\")\n",
        "# cfg = hydra.compose(config_name=FILTER)\n",
        "\n",
        "scene_filter = SceneFilter(\n",
        "    num_history_frames=4,\n",
        "    num_future_frames=10,\n",
        "\n",
        ")\n",
        "\n",
        "openscene_data_root = Path(os.getenv(\"OPENSCENE_DATA_ROOT\"))\n",
        "\n",
        "scene_loader = SceneLoader(\n",
        "    openscene_data_root / f\"mini_navsim_logs/{SPLIT}\", # data_path\n",
        "    openscene_data_root / f\"mini_sensor_blobs/{SPLIT}\", # original_sensor_path\n",
        "    scene_filter,\n",
        "    openscene_data_root / \"warmup_two_stage/sensor_blobs\", # synthetic_sensor_path\n",
        "    openscene_data_root / \"warmup_two_stage/synthetic_scene_pickles\", # synthetic_scenes_path\n",
        "    sensor_config=SensorConfig.build_all_sensors(),\n",
        ")"
      ]
    },
    {
      "cell_type": "markdown",
      "metadata": {},
      "source": [
        "## Birds-Eye-View <a name=\"bev\"></a>\n",
        "\n",
        "The Birds-Eye-View (BEV) visualization in NAVSIM is useful for overviewing the map, bounding-box annotations, or the LiDAR point cloud. In standard setting, the BEV plot includes a 64m $\\times$ 64m frame centered at the rear axle of the ego vehicle (excluding LiDAR for simplicity). First, we take a random token and load a scene to visualize."
      ]
    },
    {
      "cell_type": "code",
      "execution_count": 4,
      "metadata": {},
      "outputs": [
        {
          "ename": "TypeError",
          "evalue": "stat: path should be string, bytes, os.PathLike or integer, not NoneType",
          "output_type": "error",
          "traceback": [
            "\u001b[0;31m---------------------------------------------------------------------------\u001b[0m",
            "\u001b[0;31mTypeError\u001b[0m                                 Traceback (most recent call last)",
            "Cell \u001b[0;32mIn[4], line 2\u001b[0m\n\u001b[1;32m      1\u001b[0m token \u001b[38;5;241m=\u001b[39m np\u001b[38;5;241m.\u001b[39mrandom\u001b[38;5;241m.\u001b[39mchoice(scene_loader\u001b[38;5;241m.\u001b[39mtokens)\n\u001b[0;32m----> 2\u001b[0m scene \u001b[38;5;241m=\u001b[39m \u001b[43mscene_loader\u001b[49m\u001b[38;5;241;43m.\u001b[39;49m\u001b[43mget_scene_from_token\u001b[49m\u001b[43m(\u001b[49m\u001b[43mtoken\u001b[49m\u001b[43m)\u001b[49m\n",
            "File \u001b[0;32m~/Desktop/navsim/navsim/common/dataloader.py:241\u001b[0m, in \u001b[0;36mSceneLoader.get_scene_from_token\u001b[0;34m(self, token)\u001b[0m\n\u001b[1;32m    235\u001b[0m     \u001b[38;5;28;01mreturn\u001b[39;00m Scene\u001b[38;5;241m.\u001b[39mload_from_disk(\n\u001b[1;32m    236\u001b[0m         file_path\u001b[38;5;241m=\u001b[39m\u001b[38;5;28mself\u001b[39m\u001b[38;5;241m.\u001b[39msynthetic_scenes[token][\u001b[38;5;241m0\u001b[39m],\n\u001b[1;32m    237\u001b[0m         sensor_blobs_path\u001b[38;5;241m=\u001b[39m\u001b[38;5;28mself\u001b[39m\u001b[38;5;241m.\u001b[39m_synthetic_sensor_path,\n\u001b[1;32m    238\u001b[0m         sensor_config\u001b[38;5;241m=\u001b[39m\u001b[38;5;28mself\u001b[39m\u001b[38;5;241m.\u001b[39m_sensor_config,\n\u001b[1;32m    239\u001b[0m     )\n\u001b[1;32m    240\u001b[0m \u001b[38;5;28;01melse\u001b[39;00m:\n\u001b[0;32m--> 241\u001b[0m     \u001b[38;5;28;01mreturn\u001b[39;00m \u001b[43mScene\u001b[49m\u001b[38;5;241;43m.\u001b[39;49m\u001b[43mfrom_scene_dict_list\u001b[49m\u001b[43m(\u001b[49m\n\u001b[1;32m    242\u001b[0m \u001b[43m        \u001b[49m\u001b[38;5;28;43mself\u001b[39;49m\u001b[38;5;241;43m.\u001b[39;49m\u001b[43mscene_frames_dicts\u001b[49m\u001b[43m[\u001b[49m\u001b[43mtoken\u001b[49m\u001b[43m]\u001b[49m\u001b[43m,\u001b[49m\n\u001b[1;32m    243\u001b[0m \u001b[43m        \u001b[49m\u001b[38;5;28;43mself\u001b[39;49m\u001b[38;5;241;43m.\u001b[39;49m\u001b[43m_original_sensor_path\u001b[49m\u001b[43m,\u001b[49m\n\u001b[1;32m    244\u001b[0m \u001b[43m        \u001b[49m\u001b[43mnum_history_frames\u001b[49m\u001b[38;5;241;43m=\u001b[39;49m\u001b[38;5;28;43mself\u001b[39;49m\u001b[38;5;241;43m.\u001b[39;49m\u001b[43m_scene_filter\u001b[49m\u001b[38;5;241;43m.\u001b[39;49m\u001b[43mnum_history_frames\u001b[49m\u001b[43m,\u001b[49m\n\u001b[1;32m    245\u001b[0m \u001b[43m        \u001b[49m\u001b[43mnum_future_frames\u001b[49m\u001b[38;5;241;43m=\u001b[39;49m\u001b[38;5;28;43mself\u001b[39;49m\u001b[38;5;241;43m.\u001b[39;49m\u001b[43m_scene_filter\u001b[49m\u001b[38;5;241;43m.\u001b[39;49m\u001b[43mnum_future_frames\u001b[49m\u001b[43m,\u001b[49m\n\u001b[1;32m    246\u001b[0m \u001b[43m        \u001b[49m\u001b[43msensor_config\u001b[49m\u001b[38;5;241;43m=\u001b[39;49m\u001b[38;5;28;43mself\u001b[39;49m\u001b[38;5;241;43m.\u001b[39;49m\u001b[43m_sensor_config\u001b[49m\u001b[43m,\u001b[49m\n\u001b[1;32m    247\u001b[0m \u001b[43m    \u001b[49m\u001b[43m)\u001b[49m\n",
            "File \u001b[0;32m~/Desktop/navsim/navsim/common/dataclasses.py:499\u001b[0m, in \u001b[0;36mScene.from_scene_dict_list\u001b[0;34m(cls, scene_dict_list, sensor_blobs_path, num_history_frames, num_future_frames, sensor_config)\u001b[0m\n\u001b[1;32m    490\u001b[0m \u001b[38;5;28;01massert\u001b[39;00m \u001b[38;5;28mlen\u001b[39m(scene_dict_list) \u001b[38;5;241m>\u001b[39m\u001b[38;5;241m=\u001b[39m \u001b[38;5;241m0\u001b[39m, \u001b[38;5;124m\"\u001b[39m\u001b[38;5;124mScene list is empty!\u001b[39m\u001b[38;5;124m\"\u001b[39m\n\u001b[1;32m    491\u001b[0m scene_metadata \u001b[38;5;241m=\u001b[39m SceneMetadata(\n\u001b[1;32m    492\u001b[0m     log_name\u001b[38;5;241m=\u001b[39mscene_dict_list[num_history_frames \u001b[38;5;241m-\u001b[39m \u001b[38;5;241m1\u001b[39m][\u001b[38;5;124m\"\u001b[39m\u001b[38;5;124mlog_name\u001b[39m\u001b[38;5;124m\"\u001b[39m],\n\u001b[1;32m    493\u001b[0m     scene_token\u001b[38;5;241m=\u001b[39mscene_dict_list[num_history_frames \u001b[38;5;241m-\u001b[39m \u001b[38;5;241m1\u001b[39m][\u001b[38;5;124m\"\u001b[39m\u001b[38;5;124mscene_token\u001b[39m\u001b[38;5;124m\"\u001b[39m],\n\u001b[0;32m   (...)\u001b[0m\n\u001b[1;32m    497\u001b[0m     num_future_frames\u001b[38;5;241m=\u001b[39mnum_future_frames,\n\u001b[1;32m    498\u001b[0m )\n\u001b[0;32m--> 499\u001b[0m map_api \u001b[38;5;241m=\u001b[39m \u001b[38;5;28;43mcls\u001b[39;49m\u001b[38;5;241;43m.\u001b[39;49m\u001b[43m_build_map_api\u001b[49m\u001b[43m(\u001b[49m\u001b[43mscene_metadata\u001b[49m\u001b[38;5;241;43m.\u001b[39;49m\u001b[43mmap_name\u001b[49m\u001b[43m)\u001b[49m\n\u001b[1;32m    501\u001b[0m frames: List[Frame] \u001b[38;5;241m=\u001b[39m []\n\u001b[1;32m    502\u001b[0m \u001b[38;5;28;01mfor\u001b[39;00m frame_idx \u001b[38;5;129;01min\u001b[39;00m \u001b[38;5;28mrange\u001b[39m(\u001b[38;5;28mlen\u001b[39m(scene_dict_list)):\n",
            "File \u001b[0;32m~/Desktop/navsim/navsim/common/dataclasses.py:441\u001b[0m, in \u001b[0;36mScene._build_map_api\u001b[0;34m(cls, map_name)\u001b[0m\n\u001b[1;32m    439\u001b[0m \u001b[38;5;250m\u001b[39m\u001b[38;5;124;03m\"\"\"Helper classmethod to load map api from name.\"\"\"\u001b[39;00m\n\u001b[1;32m    440\u001b[0m \u001b[38;5;28;01massert\u001b[39;00m map_name \u001b[38;5;129;01min\u001b[39;00m MAP_LOCATIONS, \u001b[38;5;124mf\u001b[39m\u001b[38;5;124m\"\u001b[39m\u001b[38;5;124mThe map name \u001b[39m\u001b[38;5;132;01m{\u001b[39;00mmap_name\u001b[38;5;132;01m}\u001b[39;00m\u001b[38;5;124m is invalid, must be in \u001b[39m\u001b[38;5;132;01m{\u001b[39;00mMAP_LOCATIONS\u001b[38;5;132;01m}\u001b[39;00m\u001b[38;5;124m\"\u001b[39m\n\u001b[0;32m--> 441\u001b[0m \u001b[38;5;28;01mreturn\u001b[39;00m \u001b[43mget_maps_api\u001b[49m\u001b[43m(\u001b[49m\u001b[43mNUPLAN_MAPS_ROOT\u001b[49m\u001b[43m,\u001b[49m\u001b[43m \u001b[49m\u001b[38;5;124;43m\"\u001b[39;49m\u001b[38;5;124;43mnuplan-maps-v1.0\u001b[39;49m\u001b[38;5;124;43m\"\u001b[39;49m\u001b[43m,\u001b[49m\u001b[43m \u001b[49m\u001b[43mmap_name\u001b[49m\u001b[43m)\u001b[49m\n",
            "File \u001b[0;32m~/anaconda3/envs/navsim/lib/python3.9/site-packages/nuplan/common/maps/nuplan_map/map_factory.py:60\u001b[0m, in \u001b[0;36mget_maps_api\u001b[0;34m(map_root, map_version, map_name)\u001b[0m\n\u001b[1;32m     51\u001b[0m \u001b[38;5;129m@lru_cache\u001b[39m(maxsize\u001b[38;5;241m=\u001b[39m\u001b[38;5;241m32\u001b[39m)\n\u001b[1;32m     52\u001b[0m \u001b[38;5;28;01mdef\u001b[39;00m\u001b[38;5;250m \u001b[39m\u001b[38;5;21mget_maps_api\u001b[39m(map_root: \u001b[38;5;28mstr\u001b[39m, map_version: \u001b[38;5;28mstr\u001b[39m, map_name: \u001b[38;5;28mstr\u001b[39m) \u001b[38;5;241m-\u001b[39m\u001b[38;5;241m>\u001b[39m NuPlanMap:\n\u001b[1;32m     53\u001b[0m \u001b[38;5;250m    \u001b[39m\u001b[38;5;124;03m\"\"\"\u001b[39;00m\n\u001b[1;32m     54\u001b[0m \u001b[38;5;124;03m    Get a NuPlanMap object corresponding to a particular set of parameters.\u001b[39;00m\n\u001b[1;32m     55\u001b[0m \u001b[38;5;124;03m    :param map_root: The root folder for the map data.\u001b[39;00m\n\u001b[0;32m   (...)\u001b[0m\n\u001b[1;32m     58\u001b[0m \u001b[38;5;124;03m    :return: The loaded NuPlanMap object.\u001b[39;00m\n\u001b[1;32m     59\u001b[0m \u001b[38;5;124;03m    \"\"\"\u001b[39;00m\n\u001b[0;32m---> 60\u001b[0m     maps_db \u001b[38;5;241m=\u001b[39m \u001b[43mget_maps_db\u001b[49m\u001b[43m(\u001b[49m\u001b[43mmap_root\u001b[49m\u001b[43m,\u001b[49m\u001b[43m \u001b[49m\u001b[43mmap_version\u001b[49m\u001b[43m)\u001b[49m\n\u001b[1;32m     61\u001b[0m     \u001b[38;5;28;01mreturn\u001b[39;00m NuPlanMap(maps_db, map_name\u001b[38;5;241m.\u001b[39mreplace(\u001b[38;5;124m\"\u001b[39m\u001b[38;5;124m.gpkg\u001b[39m\u001b[38;5;124m\"\u001b[39m, \u001b[38;5;124m\"\u001b[39m\u001b[38;5;124m\"\u001b[39m))\n",
            "File \u001b[0;32m~/anaconda3/envs/navsim/lib/python3.9/site-packages/nuplan/common/maps/nuplan_map/map_factory.py:48\u001b[0m, in \u001b[0;36mget_maps_db\u001b[0;34m(map_root, map_version)\u001b[0m\n\u001b[1;32m     40\u001b[0m \u001b[38;5;129m@lru_cache\u001b[39m(maxsize\u001b[38;5;241m=\u001b[39m\u001b[38;5;241m2\u001b[39m)\n\u001b[1;32m     41\u001b[0m \u001b[38;5;28;01mdef\u001b[39;00m\u001b[38;5;250m \u001b[39m\u001b[38;5;21mget_maps_db\u001b[39m(map_root: \u001b[38;5;28mstr\u001b[39m, map_version: \u001b[38;5;28mstr\u001b[39m) \u001b[38;5;241m-\u001b[39m\u001b[38;5;241m>\u001b[39m GPKGMapsDB:\n\u001b[1;32m     42\u001b[0m \u001b[38;5;250m    \u001b[39m\u001b[38;5;124;03m\"\"\"\u001b[39;00m\n\u001b[1;32m     43\u001b[0m \u001b[38;5;124;03m    Get a maps_db from disk.\u001b[39;00m\n\u001b[1;32m     44\u001b[0m \u001b[38;5;124;03m    :param map_root: The root folder for the map data.\u001b[39;00m\n\u001b[1;32m     45\u001b[0m \u001b[38;5;124;03m    :param map_version: The version of the map to load.\u001b[39;00m\n\u001b[1;32m     46\u001b[0m \u001b[38;5;124;03m    :return; The loaded MapsDB object.\u001b[39;00m\n\u001b[1;32m     47\u001b[0m \u001b[38;5;124;03m    \"\"\"\u001b[39;00m\n\u001b[0;32m---> 48\u001b[0m     \u001b[38;5;28;01mreturn\u001b[39;00m \u001b[43mGPKGMapsDB\u001b[49m\u001b[43m(\u001b[49m\u001b[43mmap_root\u001b[49m\u001b[38;5;241;43m=\u001b[39;49m\u001b[43mmap_root\u001b[49m\u001b[43m,\u001b[49m\u001b[43m \u001b[49m\u001b[43mmap_version\u001b[49m\u001b[38;5;241;43m=\u001b[39;49m\u001b[43mmap_version\u001b[49m\u001b[43m)\u001b[49m\n",
            "File \u001b[0;32m~/anaconda3/envs/navsim/lib/python3.9/site-packages/nuplan/database/maps_db/gpkg_mapsdb.py:72\u001b[0m, in \u001b[0;36mGPKGMapsDB.__init__\u001b[0;34m(self, map_version, map_root)\u001b[0m\n\u001b[1;32m     69\u001b[0m \u001b[38;5;28mself\u001b[39m\u001b[38;5;241m.\u001b[39m_map_version \u001b[38;5;241m=\u001b[39m map_version\n\u001b[1;32m     70\u001b[0m \u001b[38;5;28mself\u001b[39m\u001b[38;5;241m.\u001b[39m_map_root \u001b[38;5;241m=\u001b[39m map_root\n\u001b[0;32m---> 72\u001b[0m \u001b[38;5;28mself\u001b[39m\u001b[38;5;241m.\u001b[39m_blob_store \u001b[38;5;241m=\u001b[39m \u001b[43mBlobStoreCreator\u001b[49m\u001b[38;5;241;43m.\u001b[39;49m\u001b[43mcreate_mapsdb\u001b[49m\u001b[43m(\u001b[49m\u001b[43mmap_root\u001b[49m\u001b[38;5;241;43m=\u001b[39;49m\u001b[38;5;28;43mself\u001b[39;49m\u001b[38;5;241;43m.\u001b[39;49m\u001b[43m_map_root\u001b[49m\u001b[43m)\u001b[49m\n\u001b[1;32m     73\u001b[0m version_file \u001b[38;5;241m=\u001b[39m \u001b[38;5;28mself\u001b[39m\u001b[38;5;241m.\u001b[39m_blob_store\u001b[38;5;241m.\u001b[39mget(\u001b[38;5;124mf\u001b[39m\u001b[38;5;124m\"\u001b[39m\u001b[38;5;132;01m{\u001b[39;00m\u001b[38;5;28mself\u001b[39m\u001b[38;5;241m.\u001b[39m_map_version\u001b[38;5;132;01m}\u001b[39;00m\u001b[38;5;124m.json\u001b[39m\u001b[38;5;124m\"\u001b[39m)  \u001b[38;5;66;03m# get blob and save to disk\u001b[39;00m\n\u001b[1;32m     74\u001b[0m \u001b[38;5;28mself\u001b[39m\u001b[38;5;241m.\u001b[39m_metadata \u001b[38;5;241m=\u001b[39m json\u001b[38;5;241m.\u001b[39mload(version_file)\n",
            "File \u001b[0;32m~/anaconda3/envs/navsim/lib/python3.9/site-packages/nuplan/database/common/blob_store/creator.py:54\u001b[0m, in \u001b[0;36mBlobStoreCreator.create_mapsdb\u001b[0;34m(cls, map_root, verbose)\u001b[0m\n\u001b[1;32m     42\u001b[0m \u001b[38;5;250m\u001b[39m\u001b[38;5;124;03m\"\"\"\u001b[39;00m\n\u001b[1;32m     43\u001b[0m \u001b[38;5;124;03mCreate Maps DB blob storage.\u001b[39;00m\n\u001b[1;32m     44\u001b[0m \n\u001b[0;32m   (...)\u001b[0m\n\u001b[1;32m     47\u001b[0m \u001b[38;5;124;03m:return: Blob storage created.\u001b[39;00m\n\u001b[1;32m     48\u001b[0m \u001b[38;5;124;03m\"\"\"\u001b[39;00m\n\u001b[1;32m     49\u001b[0m conf \u001b[38;5;241m=\u001b[39m RemoteConfig(\n\u001b[1;32m     50\u001b[0m     http_root_url\u001b[38;5;241m=\u001b[39mos\u001b[38;5;241m.\u001b[39mgetenv(\u001b[38;5;124m\"\u001b[39m\u001b[38;5;124mNUPLAN_MAPS_ROOT_HTTP_URL\u001b[39m\u001b[38;5;124m\"\u001b[39m, \u001b[38;5;124m\"\u001b[39m\u001b[38;5;124m\"\u001b[39m),\n\u001b[1;32m     51\u001b[0m     s3_root_url\u001b[38;5;241m=\u001b[39mos\u001b[38;5;241m.\u001b[39mgetenv(\u001b[38;5;124m\"\u001b[39m\u001b[38;5;124mNUPLAN_MAPS_ROOT_S3_URL\u001b[39m\u001b[38;5;124m\"\u001b[39m, \u001b[38;5;124m\"\u001b[39m\u001b[38;5;124m\"\u001b[39m),\n\u001b[1;32m     52\u001b[0m )\n\u001b[0;32m---> 54\u001b[0m \u001b[38;5;28;01mreturn\u001b[39;00m \u001b[38;5;28;43mcls\u001b[39;49m\u001b[38;5;241;43m.\u001b[39;49m\u001b[43mcreate\u001b[49m\u001b[43m(\u001b[49m\u001b[43mmap_root\u001b[49m\u001b[43m,\u001b[49m\u001b[43m \u001b[49m\u001b[43mconf\u001b[49m\u001b[43m,\u001b[49m\u001b[43m \u001b[49m\u001b[43mverbose\u001b[49m\u001b[43m)\u001b[49m\n",
            "File \u001b[0;32m~/anaconda3/envs/navsim/lib/python3.9/site-packages/nuplan/database/common/blob_store/creator.py:76\u001b[0m, in \u001b[0;36mBlobStoreCreator.create\u001b[0;34m(cls, data_root, conf, verbose)\u001b[0m\n\u001b[1;32m     74\u001b[0m \u001b[38;5;28;01melif\u001b[39;00m NUPLAN_DATA_STORE \u001b[38;5;241m==\u001b[39m \u001b[38;5;124m\"\u001b[39m\u001b[38;5;124mlocal\u001b[39m\u001b[38;5;124m\"\u001b[39m:\n\u001b[1;32m     75\u001b[0m     logger\u001b[38;5;241m.\u001b[39mdebug(\u001b[38;5;124mf\u001b[39m\u001b[38;5;124m\"\u001b[39m\u001b[38;5;124mUsing local disk store at \u001b[39m\u001b[38;5;132;01m{\u001b[39;00mdata_root\u001b[38;5;132;01m}\u001b[39;00m\u001b[38;5;124m with no remote store\u001b[39m\u001b[38;5;124m\"\u001b[39m)\n\u001b[0;32m---> 76\u001b[0m     \u001b[38;5;28;01mreturn\u001b[39;00m \u001b[43mLocalStore\u001b[49m\u001b[43m(\u001b[49m\u001b[43mdata_root\u001b[49m\u001b[43m)\u001b[49m\n\u001b[1;32m     77\u001b[0m \u001b[38;5;66;03m# Default to S3 if environment variable is empty or not set.\u001b[39;00m\n\u001b[1;32m     78\u001b[0m \u001b[38;5;28;01melif\u001b[39;00m NUPLAN_DATA_STORE \u001b[38;5;241m==\u001b[39m \u001b[38;5;124m\"\u001b[39m\u001b[38;5;124ms3\u001b[39m\u001b[38;5;124m\"\u001b[39m:\n",
            "File \u001b[0;32m~/anaconda3/envs/navsim/lib/python3.9/site-packages/nuplan/database/common/blob_store/local_store.py:22\u001b[0m, in \u001b[0;36mLocalStore.__init__\u001b[0;34m(self, root_dir)\u001b[0m\n\u001b[1;32m     17\u001b[0m \u001b[38;5;250m\u001b[39m\u001b[38;5;124;03m\"\"\"\u001b[39;00m\n\u001b[1;32m     18\u001b[0m \u001b[38;5;124;03mInitialize LocalStore.\u001b[39;00m\n\u001b[1;32m     19\u001b[0m \u001b[38;5;124;03m:param root_dir: Root directory containing the data.\u001b[39;00m\n\u001b[1;32m     20\u001b[0m \u001b[38;5;124;03m\"\"\"\u001b[39;00m\n\u001b[1;32m     21\u001b[0m \u001b[38;5;28mself\u001b[39m\u001b[38;5;241m.\u001b[39m_root_dir \u001b[38;5;241m=\u001b[39m root_dir\n\u001b[0;32m---> 22\u001b[0m \u001b[38;5;28;01massert\u001b[39;00m \u001b[43mos\u001b[49m\u001b[38;5;241;43m.\u001b[39;49m\u001b[43mpath\u001b[49m\u001b[38;5;241;43m.\u001b[39;49m\u001b[43misdir\u001b[49m\u001b[43m(\u001b[49m\u001b[38;5;28;43mself\u001b[39;49m\u001b[38;5;241;43m.\u001b[39;49m\u001b[43m_root_dir\u001b[49m\u001b[43m)\u001b[49m, \u001b[38;5;124m'\u001b[39m\u001b[38;5;132;01m%s\u001b[39;00m\u001b[38;5;124m does not exist!\u001b[39m\u001b[38;5;124m'\u001b[39m \u001b[38;5;241m%\u001b[39m \u001b[38;5;28mself\u001b[39m\u001b[38;5;241m.\u001b[39m_root_dir\n\u001b[1;32m     23\u001b[0m \u001b[38;5;28;01massert\u001b[39;00m os\u001b[38;5;241m.\u001b[39maccess(\u001b[38;5;28mself\u001b[39m\u001b[38;5;241m.\u001b[39m_root_dir, os\u001b[38;5;241m.\u001b[39mR_OK \u001b[38;5;241m|\u001b[39m os\u001b[38;5;241m.\u001b[39mX_OK), \u001b[38;5;124m'\u001b[39m\u001b[38;5;124mcan not read from \u001b[39m\u001b[38;5;132;01m%s\u001b[39;00m\u001b[38;5;124m'\u001b[39m \u001b[38;5;241m%\u001b[39m \u001b[38;5;28mself\u001b[39m\u001b[38;5;241m.\u001b[39m_root_dir\n",
            "File \u001b[0;32m~/anaconda3/envs/navsim/lib/python3.9/genericpath.py:42\u001b[0m, in \u001b[0;36misdir\u001b[0;34m(s)\u001b[0m\n\u001b[1;32m     40\u001b[0m \u001b[38;5;250m\u001b[39m\u001b[38;5;124;03m\"\"\"Return true if the pathname refers to an existing directory.\"\"\"\u001b[39;00m\n\u001b[1;32m     41\u001b[0m \u001b[38;5;28;01mtry\u001b[39;00m:\n\u001b[0;32m---> 42\u001b[0m     st \u001b[38;5;241m=\u001b[39m \u001b[43mos\u001b[49m\u001b[38;5;241;43m.\u001b[39;49m\u001b[43mstat\u001b[49m\u001b[43m(\u001b[49m\u001b[43ms\u001b[49m\u001b[43m)\u001b[49m\n\u001b[1;32m     43\u001b[0m \u001b[38;5;28;01mexcept\u001b[39;00m (\u001b[38;5;167;01mOSError\u001b[39;00m, \u001b[38;5;167;01mValueError\u001b[39;00m):\n\u001b[1;32m     44\u001b[0m     \u001b[38;5;28;01mreturn\u001b[39;00m \u001b[38;5;28;01mFalse\u001b[39;00m\n",
            "\u001b[0;31mTypeError\u001b[0m: stat: path should be string, bytes, os.PathLike or integer, not NoneType"
          ]
        }
      ],
      "source": [
        "token = np.random.choice(scene_loader.tokens)\n",
        "scene = scene_loader.get_scene_from_token(token)"
      ]
    },
    {
      "cell_type": "markdown",
      "metadata": {},
      "source": [
        "The function `plot_bev_frame` takes a `Scene` and index of the step to visualize (history or future). "
      ]
    },
    {
      "cell_type": "code",
      "execution_count": null,
      "metadata": {},
      "outputs": [],
      "source": [
        "from navsim.visualization.plots import plot_bev_frame\n",
        "\n",
        "frame_idx = scene.scene_metadata.num_history_frames - 1 # current frame\n",
        "fig, ax = plot_bev_frame(scene, frame_idx)\n",
        "plt.show()"
      ]
    },
    {
      "cell_type": "markdown",
      "metadata": {},
      "source": [
        "The function `plot_bev_with_agent` visualizes the trajectory of an <span style=\"color:#DE7061\">agent</span> in comparison to the <span style=\"color:#59a14f\">human vehicle operator</span> at the current frame. This notebook shows an example of the naive `ConstantVelocityAgent`:"
      ]
    },
    {
      "cell_type": "code",
      "execution_count": null,
      "metadata": {},
      "outputs": [],
      "source": [
        "from navsim.visualization.plots import plot_bev_with_agent\n",
        "from navsim.agents.constant_velocity_agent import ConstantVelocityAgent\n",
        "\n",
        "agent = ConstantVelocityAgent()\n",
        "fig, ax = plot_bev_with_agent(scene, agent)\n",
        "plt.show()"
      ]
    },
    {
      "cell_type": "markdown",
      "metadata": {},
      "source": [
        "## Cameras <a name=\"bev\"></a>\n",
        "\n",
        "The agents in NAVSIM have access to eight cameras surrounding the vehicle. The function `plot_cameras_frame` shows the cameras in a 3 $\\times$ 3 grid with cameras in each direction of the ego-vehicle and the BEV plot in the center. "
      ]
    },
    {
      "cell_type": "code",
      "execution_count": null,
      "metadata": {},
      "outputs": [],
      "source": [
        "from navsim.visualization.plots import plot_cameras_frame\n",
        "\n",
        "fig, ax = plot_cameras_frame(scene, frame_idx)\n",
        "plt.show()"
      ]
    },
    {
      "cell_type": "markdown",
      "metadata": {},
      "source": [
        "With `plot_cameras_frame_with_annotations`, you can visualize the bounding-box annotations in the camera images."
      ]
    },
    {
      "cell_type": "code",
      "execution_count": null,
      "metadata": {},
      "outputs": [],
      "source": [
        "from navsim.visualization.plots import plot_cameras_frame_with_annotations\n",
        "\n",
        "fig, ax = plot_cameras_frame_with_annotations(scene, frame_idx)\n",
        "plt.show()"
      ]
    },
    {
      "cell_type": "markdown",
      "metadata": {},
      "source": [
        "With `plot_cameras_frame_with_lidar`, you can visualize the LiDAR point cloud in the camera images."
      ]
    },
    {
      "cell_type": "code",
      "execution_count": null,
      "metadata": {},
      "outputs": [],
      "source": [
        "from navsim.visualization.plots import plot_cameras_frame_with_lidar\n",
        "\n",
        "fig, ax = plot_cameras_frame_with_lidar(scene, frame_idx)\n",
        "plt.show()"
      ]
    },
    {
      "cell_type": "markdown",
      "metadata": {},
      "source": [
        "## Creating custom plots <a name=\"custom\"></a>\n",
        "\n",
        "The plots in NAVSIM use `matplotlib` and either add elements to a `plt.Axes` object or return the full `plt.Figure`. Functions in [`navsim/visualization/`](https://github.com/autonomousvision/navsim/blob/main/navsim/navsim/visualization) can be re-used to create custom plots. In this example, we create a plot for the bounding-box annotations and the LiDAR point cloud."
      ]
    },
    {
      "cell_type": "code",
      "execution_count": null,
      "metadata": {},
      "outputs": [],
      "source": [
        "from navsim.visualization.plots import configure_bev_ax\n",
        "from navsim.visualization.bev import add_annotations_to_bev_ax, add_lidar_to_bev_ax\n",
        "\n",
        "\n",
        "fig, ax = plt.subplots(1, 1, figsize=(6, 6))\n",
        "\n",
        "ax.set_title(\"Custom plot\")\n",
        "\n",
        "add_annotations_to_bev_ax(ax, scene.frames[frame_idx].annotations)\n",
        "add_lidar_to_bev_ax(ax, scene.frames[frame_idx].lidar)\n",
        "\n",
        "# configures frame to BEV view\n",
        "configure_bev_ax(ax)\n",
        "\n",
        "plt.show()"
      ]
    },
    {
      "cell_type": "markdown",
      "metadata": {},
      "source": [
        "## Creating GIFs <a name=\"gifs\"></a>\n",
        "\n",
        "You can transform frame-wise plots into short animated GIFs. Give any function to `frame_plot_to_gif`, which takes a `Scene` and `frame_idx` as input (ie. `plot_cameras_frame_with_annotations`)."
      ]
    },
    {
      "cell_type": "code",
      "execution_count": null,
      "metadata": {},
      "outputs": [],
      "source": [
        "from navsim.visualization.plots import frame_plot_to_gif\n",
        "\n",
        "frame_indices = [idx for idx in range(len(scene.frames))]  # all frames in scene\n",
        "file_name = f\"./{token}.gif\"\n",
        "images = frame_plot_to_gif(file_name, plot_cameras_frame_with_annotations, scene, frame_indices)"
      ]
    }
  ],
  "metadata": {
    "kernelspec": {
      "display_name": "navsim",
      "language": "python",
      "name": "python3"
    },
    "language_info": {
      "codemirror_mode": {
        "name": "ipython",
        "version": 3
      },
      "file_extension": ".py",
      "mimetype": "text/x-python",
      "name": "python",
      "nbconvert_exporter": "python",
      "pygments_lexer": "ipython3",
      "version": "3.9.21"
    }
  },
  "nbformat": 4,
  "nbformat_minor": 2
}
